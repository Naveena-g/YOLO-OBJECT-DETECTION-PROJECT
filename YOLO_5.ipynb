{
  "nbformat": 4,
  "nbformat_minor": 0,
  "metadata": {
    "colab": {
      "provenance": []
    },
    "kernelspec": {
      "name": "python3",
      "display_name": "Python 3"
    },
    "language_info": {
      "name": "python"
    }
  },
  "cells": [
    {
      "cell_type": "code",
      "execution_count": 6,
      "metadata": {
        "colab": {
          "base_uri": "https://localhost:8080/"
        },
        "id": "-M7AShWmb7rc",
        "outputId": "9cd52a9d-85c7-4bb5-e433-8f34e13eae9f"
      },
      "outputs": [
        {
          "output_type": "stream",
          "name": "stderr",
          "text": [
            "Using cache found in /root/.cache/torch/hub/ultralytics_yolov5_master\n",
            "YOLOv5 🚀 2024-8-12 Python-3.10.12 torch-2.3.1+cu121 CPU\n",
            "\n",
            "Fusing layers... \n",
            "YOLOv5s summary: 213 layers, 7225885 parameters, 0 gradients, 16.4 GFLOPs\n",
            "Adding AutoShape... \n"
          ]
        },
        {
          "output_type": "stream",
          "name": "stdout",
          "text": [
            "Result saved to /content/output.jpg\n"
          ]
        }
      ],
      "source": [
        "import torch\n",
        "import cv2\n",
        "import matplotlib.pyplot as plt\n",
        "\n",
        "# Load pre-trained YOLOv5 model\n",
        "model = torch.hub.load('ultralytics/yolov5', 'yolov5s')  # 'yolov5s' is the small model version\n",
        "\n",
        "# Function to run YOLOv5 on an image\n",
        "def detect_objects(image_path, save_path='output.jpg'):\n",
        "    # Load image\n",
        "    img = cv2.imread(image_path)\n",
        "\n",
        "    # Convert BGR (OpenCV default) to RGB\n",
        "    img_rgb = cv2.cvtColor(img, cv2.COLOR_BGR2RGB)\n",
        "\n",
        "    # Run inference\n",
        "    results = model(img_rgb)\n",
        "\n",
        "    # Get bounding boxes and labels\n",
        "    results_df = results.pandas().xyxy[0]\n",
        "\n",
        "    # Draw bounding boxes on the original image\n",
        "    for _, row in results_df.iterrows():\n",
        "        x1, y1, x2, y2 = int(row['xmin']), int(row['ymin']), int(row['xmax']), int(row['ymax'])\n",
        "        label = f\"{row['name']} {row['confidence']:.2f}\"\n",
        "        img = cv2.rectangle(img, (x1, y1), (x2, y2), (0, 255, 0), 2)\n",
        "        img = cv2.putText(img, label, (x1, y1 - 10), cv2.FONT_HERSHEY_SIMPLEX, 0.5, (0, 255, 0), 2)\n",
        "\n",
        "    # Convert BGR back to RGB for displaying with matplotlib\n",
        "    img_rgb = cv2.cvtColor(img, cv2.COLOR_BGR2RGB)\n",
        "\n",
        "    # Save the image with bounding boxes\n",
        "    cv2.imwrite(save_path, img)\n",
        "    print(f\"Result saved to {save_path}\")\n",
        "\n",
        "    # Display the image with bounding boxes\n",
        "    plt.imshow(img_rgb)\n",
        "    plt.axis('off')\n",
        "    plt.show()\n",
        "\n",
        "# Directly set the image path\n",
        "image_path = '/content/dog.jpg'  # Provide the correct path to your image\n",
        "detect_objects(image_path, save_path='/content/output.jpg')\n"
      ]
    }
  ]
}